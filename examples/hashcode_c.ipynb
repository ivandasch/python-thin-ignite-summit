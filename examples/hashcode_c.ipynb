{
 "cells": [
  {
   "cell_type": "code",
   "execution_count": 3,
   "id": "db5dc03d",
   "metadata": {},
   "outputs": [
    {
     "name": "stdout",
     "output_type": "stream",
     "text": [
      "def __hashcode_fallback(data: Union[str, bytes, bytearray, memoryview]) -> int:\n",
      "    if data is None:\n",
      "        return 0\n",
      "\n",
      "    if isinstance(data, str):\n",
      "        \"\"\"\n",
      "        For strings we iterate over code point which are of the int type\n",
      "        and can take up to 4 bytes and can only be positive.\n",
      "        \"\"\"\n",
      "        result = 0\n",
      "        for char in data:\n",
      "            try:\n",
      "                char_val = ord(char)\n",
      "                result = int_overflow(31 * result + char_val)\n",
      "            except TypeError:\n",
      "                pass\n",
      "    else:\n",
      "        \"\"\"\n",
      "        For byte array we iterate over bytes which only take 1 byte. But\n",
      "        according to protocol, bytes during hashing should be treated as signed\n",
      "        integer numbers 8 bits long. On other hand elements in Python's `bytes`\n",
      "        are unsigned. For this reason we use ctypes.c_byte() to make them\n",
      "        signed.\n",
      "        \"\"\"\n",
      "        result = 1\n",
      "        for byte in data:\n",
      "            byte = ctypes.c_byte(byte).value\n",
      "            result = int_overflow(31 * result + byte)\n",
      "    return result\n",
      "\n"
     ]
    }
   ],
   "source": [
    "from pyignite.utils import __hashcode_fallback\n",
    "from pyignite._cutils import hashcode\n",
    "import inspect\n",
    "\n",
    "print(inspect.getsource(__hashcode_fallback))"
   ]
  },
  {
   "cell_type": "code",
   "execution_count": 4,
   "id": "71277bb5",
   "metadata": {},
   "outputs": [],
   "source": [
    "import secrets\n",
    "\n",
    "data = secrets.token_bytes(4096)"
   ]
  },
  {
   "cell_type": "code",
   "execution_count": 5,
   "id": "1ff10d28",
   "metadata": {},
   "outputs": [
    {
     "name": "stdout",
     "output_type": "stream",
     "text": [
      "3.62 µs ± 275 ns per loop (mean ± std. dev. of 7 runs, 100000 loops each)\n"
     ]
    }
   ],
   "source": [
    "%timeit hashcode(data)"
   ]
  },
  {
   "cell_type": "code",
   "execution_count": 6,
   "id": "15cf5689",
   "metadata": {},
   "outputs": [
    {
     "name": "stdout",
     "output_type": "stream",
     "text": [
      "1.86 ms ± 61.7 µs per loop (mean ± std. dev. of 7 runs, 100 loops each)\n"
     ]
    }
   ],
   "source": [
    "%timeit __hashcode_fallback(data)"
   ]
  },
  {
   "cell_type": "code",
   "execution_count": 7,
   "id": "610721b6",
   "metadata": {},
   "outputs": [],
   "source": [
    "string = secrets.token_hex(64)"
   ]
  },
  {
   "cell_type": "code",
   "execution_count": 8,
   "id": "d19cd3d6",
   "metadata": {},
   "outputs": [
    {
     "name": "stdout",
     "output_type": "stream",
     "text": [
      "196 ns ± 2.45 ns per loop (mean ± std. dev. of 7 runs, 1000000 loops each)\n"
     ]
    }
   ],
   "source": [
    "%timeit hashcode(string)"
   ]
  },
  {
   "cell_type": "code",
   "execution_count": 9,
   "id": "b3d6fe29",
   "metadata": {},
   "outputs": [
    {
     "name": "stdout",
     "output_type": "stream",
     "text": [
      "35.8 µs ± 2.52 µs per loop (mean ± std. dev. of 7 runs, 10000 loops each)\n"
     ]
    }
   ],
   "source": [
    "%timeit __hashcode_fallback(string)"
   ]
  }
 ],
 "metadata": {
  "kernelspec": {
   "display_name": "Python 3",
   "language": "python",
   "name": "python3"
  },
  "language_info": {
   "codemirror_mode": {
    "name": "ipython",
    "version": 3
   },
   "file_extension": ".py",
   "mimetype": "text/x-python",
   "name": "python",
   "nbconvert_exporter": "python",
   "pygments_lexer": "ipython3",
   "version": "3.8.6"
  }
 },
 "nbformat": 4,
 "nbformat_minor": 5
}
