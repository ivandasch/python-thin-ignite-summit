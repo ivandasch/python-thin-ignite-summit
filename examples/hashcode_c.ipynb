{
 "cells": [
  {
   "cell_type": "code",
   "execution_count": 11,
   "id": "6cf9f6d4",
   "metadata": {},
   "outputs": [
    {
     "name": "stdout",
     "output_type": "stream",
     "text": [
      "def __hashcode_fallback(data: Union[str, bytes, bytearray, memoryview]) -> int:\n",
      "    if data is None:\n",
      "        return 0\n",
      "\n",
      "    if isinstance(data, str):\n",
      "        \"\"\"\n",
      "        For strings we iterate over code point which are of the int type\n",
      "        and can take up to 4 bytes and can only be positive.\n",
      "        \"\"\"\n",
      "        result = 0\n",
      "        for char in data:\n",
      "            try:\n",
      "                char_val = ord(char)\n",
      "                result = int_overflow(31 * result + char_val)\n",
      "            except TypeError:\n",
      "                pass\n",
      "    else:\n",
      "        \"\"\"\n",
      "        For byte array we iterate over bytes which only take 1 byte. But\n",
      "        according to protocol, bytes during hashing should be treated as signed\n",
      "        integer numbers 8 bits long. On other hand elements in Python's `bytes`\n",
      "        are unsigned. For this reason we use ctypes.c_byte() to make them\n",
      "        signed.\n",
      "        \"\"\"\n",
      "        result = 1\n",
      "        for byte in data:\n",
      "            byte = ctypes.c_byte(byte).value\n",
      "            result = int_overflow(31 * result + byte)\n",
      "    return result\n",
      "\n"
     ]
    }
   ],
   "source": [
    "from pyignite.utils import __hashcode_fallback\n",
    "from pyignite._cutils import hashcode\n",
    "import inspect\n",
    "\n",
    "print(inspect.getsource(__hashcode_fallback))"
   ]
  },
  {
   "cell_type": "code",
   "execution_count": 13,
   "id": "bb1e294c",
   "metadata": {},
   "outputs": [],
   "source": [
    "import secrets\n",
    "\n",
    "data = secrets.token_bytes(1024*1024)"
   ]
  },
  {
   "cell_type": "code",
   "execution_count": 14,
   "id": "695729c5",
   "metadata": {},
   "outputs": [
    {
     "name": "stdout",
     "output_type": "stream",
     "text": [
      "869 µs ± 58.8 µs per loop (mean ± std. dev. of 7 runs, 1000 loops each)\n"
     ]
    }
   ],
   "source": [
    "%timeit hashcode(data)"
   ]
  },
  {
   "cell_type": "code",
   "execution_count": 15,
   "id": "2b220b87",
   "metadata": {},
   "outputs": [
    {
     "name": "stdout",
     "output_type": "stream",
     "text": [
      "464 ms ± 27.4 ms per loop (mean ± std. dev. of 7 runs, 1 loop each)\n"
     ]
    }
   ],
   "source": [
    "%timeit __hashcode_fallback(data)"
   ]
  },
  {
   "cell_type": "code",
   "execution_count": 7,
   "id": "d5f3349d",
   "metadata": {},
   "outputs": [],
   "source": [
    "string = secrets.token_hex(64)"
   ]
  },
  {
   "cell_type": "code",
   "execution_count": 8,
   "id": "cf061b1a",
   "metadata": {},
   "outputs": [
    {
     "name": "stdout",
     "output_type": "stream",
     "text": [
      "196 ns ± 2.45 ns per loop (mean ± std. dev. of 7 runs, 1000000 loops each)\n"
     ]
    }
   ],
   "source": [
    "%timeit hashcode(string)"
   ]
  },
  {
   "cell_type": "code",
   "execution_count": 9,
   "id": "887c03fb",
   "metadata": {},
   "outputs": [
    {
     "name": "stdout",
     "output_type": "stream",
     "text": [
      "35.8 µs ± 2.52 µs per loop (mean ± std. dev. of 7 runs, 10000 loops each)\n"
     ]
    }
   ],
   "source": [
    "%timeit __hashcode_fallback(string)"
   ]
  }
 ],
 "metadata": {
  "kernelspec": {
   "display_name": "Python 3",
   "language": "python",
   "name": "python3"
  },
  "language_info": {
   "codemirror_mode": {
    "name": "ipython",
    "version": 3
   },
   "file_extension": ".py",
   "mimetype": "text/x-python",
   "name": "python",
   "nbconvert_exporter": "python",
   "pygments_lexer": "ipython3",
   "version": "3.8.6"
  }
 },
 "nbformat": 4,
 "nbformat_minor": 5
}
