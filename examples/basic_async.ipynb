{
 "cells": [
  {
   "cell_type": "markdown",
   "id": "d05d2c70",
   "metadata": {},
   "source": [
    "## Async client examples\n",
    "\n",
    "More async client examples [here](https://apache-ignite-binary-protocol-client.readthedocs.io/en/latest/async_examples.html)"
   ]
  },
  {
   "cell_type": "code",
   "execution_count": 52,
   "id": "ecc0b224",
   "metadata": {},
   "outputs": [],
   "source": [
    "import asyncio\n",
    "import pandas as pd\n",
    "\n",
    "from pyignite import GenericObjectMeta, AioClient\n",
    "from pyignite.datatypes import String, IntObject, DoubleObject\n",
    "from pyignite.datatypes.prop_codes import PROP_NAME, PROP_SQL_SCHEMA, PROP_QUERY_ENTITIES"
   ]
  },
  {
   "cell_type": "code",
   "execution_count": 53,
   "id": "6b62db83",
   "metadata": {},
   "outputs": [],
   "source": [
    "CACHE_CONFIG = {\n",
    "    PROP_NAME: 'sql_public_student',\n",
    "    PROP_SQL_SCHEMA: 'public',\n",
    "    PROP_QUERY_ENTITIES: [\n",
    "        {\n",
    "            'table_name': 'student',\n",
    "            'key_field_name': 'sid',\n",
    "            'key_type_name': 'java.lang.Long',\n",
    "            'field_name_aliases': [],\n",
    "            'query_fields': [\n",
    "                {\n",
    "                    'name': 'sid',\n",
    "                    'type_name': 'java.lang.Long',\n",
    "                    'is_key_field': True,\n",
    "                    'is_notnull_constraint_field': True,\n",
    "                },\n",
    "                {\n",
    "                    'name': 'name',\n",
    "                    'type_name': 'java.lang.String',\n",
    "                },\n",
    "                {\n",
    "                    'name': 'login',\n",
    "                    'type_name': 'java.lang.String',\n",
    "                },\n",
    "                {\n",
    "                    'name': 'age',\n",
    "                    'type_name': 'java.lang.Integer',\n",
    "                },\n",
    "                {\n",
    "                    'name': 'gpa',\n",
    "                    'type_name': 'java.math.Double',\n",
    "                },\n",
    "            ],\n",
    "            'query_indexes': [],\n",
    "            'value_type_name': 'sql_public_student_type',\n",
    "            'value_field_name': None,\n",
    "        },\n",
    "    ],\n",
    "}"
   ]
  },
  {
   "cell_type": "code",
   "execution_count": 54,
   "id": "085b728e",
   "metadata": {},
   "outputs": [],
   "source": [
    "class Student(\n",
    "    metaclass=GenericObjectMeta,\n",
    "    type_name='sql_public_student_type',\n",
    "    schema={\n",
    "        'name': String,\n",
    "        'login': String,\n",
    "        'age': IntObject,\n",
    "        'gpa': DoubleObject,\n",
    "    }\n",
    "):\n",
    "    pass"
   ]
  },
  {
   "cell_type": "code",
   "execution_count": 55,
   "id": "3b972910",
   "metadata": {},
   "outputs": [],
   "source": [
    "students = [\n",
    "    {'name': 'John Doe', 'login': 'jdoe', 'age': 18, 'gpa': 2.5},\n",
    "    {'name': 'Jane Doe', 'login': 'janed', 'age': 25, 'gpa': 3.5},\n",
    "    {'name': 'Eva Lu Ator', 'login': 'evaluator', 'age': 45, 'gpa': 4.9}\n",
    "]"
   ]
  },
  {
   "cell_type": "code",
   "execution_count": 56,
   "id": "ba619f1d",
   "metadata": {},
   "outputs": [],
   "source": [
    "client = AioClient(partition_aware=True)\n",
    "loop = asyncio.get_event_loop()"
   ]
  },
  {
   "cell_type": "markdown",
   "id": "e20809e5",
   "metadata": {},
   "source": [
    "### Cache operations example"
   ]
  },
  {
   "cell_type": "code",
   "execution_count": 57,
   "id": "a228c03c",
   "metadata": {},
   "outputs": [
    {
     "data": {
      "text/html": [
       "<div>\n",
       "<style scoped>\n",
       "    .dataframe tbody tr th:only-of-type {\n",
       "        vertical-align: middle;\n",
       "    }\n",
       "\n",
       "    .dataframe tbody tr th {\n",
       "        vertical-align: top;\n",
       "    }\n",
       "\n",
       "    .dataframe thead th {\n",
       "        text-align: right;\n",
       "    }\n",
       "</style>\n",
       "<table border=\"1\" class=\"dataframe\">\n",
       "  <thead>\n",
       "    <tr style=\"text-align: right;\">\n",
       "      <th></th>\n",
       "      <th>SID</th>\n",
       "      <th>NAME</th>\n",
       "      <th>LOGIN</th>\n",
       "      <th>AGE</th>\n",
       "      <th>GPA</th>\n",
       "    </tr>\n",
       "  </thead>\n",
       "  <tbody>\n",
       "    <tr>\n",
       "      <th>0</th>\n",
       "      <td>0</td>\n",
       "      <td>John Doe</td>\n",
       "      <td>jdoe</td>\n",
       "      <td>18</td>\n",
       "      <td>2.5</td>\n",
       "    </tr>\n",
       "    <tr>\n",
       "      <th>1</th>\n",
       "      <td>1</td>\n",
       "      <td>Jane Doe</td>\n",
       "      <td>janed</td>\n",
       "      <td>25</td>\n",
       "      <td>3.5</td>\n",
       "    </tr>\n",
       "    <tr>\n",
       "      <th>2</th>\n",
       "      <td>2</td>\n",
       "      <td>Eva Lu Ator</td>\n",
       "      <td>evaluator</td>\n",
       "      <td>45</td>\n",
       "      <td>4.9</td>\n",
       "    </tr>\n",
       "  </tbody>\n",
       "</table>\n",
       "</div>"
      ],
      "text/plain": [
       "   SID         NAME      LOGIN  AGE  GPA\n",
       "0    0     John Doe       jdoe   18  2.5\n",
       "1    1     Jane Doe      janed   25  3.5\n",
       "2    2  Eva Lu Ator  evaluator   45  4.9"
      ]
     },
     "execution_count": 57,
     "metadata": {},
     "output_type": "execute_result"
    }
   ],
   "source": [
    "async def cache_api():\n",
    "    async with client.connect([('127.0.0.1', 10800 + i) for i in range(3)]):\n",
    "        cache = await client.get_or_create_cache(CACHE_CONFIG)\n",
    "        await cache.put_all({i: Student(**st) for i, st in enumerate(students)})\n",
    "\n",
    "\n",
    "        async with client.sql('select * from student', include_field_names=True) as cursor:\n",
    "            row_names = await cursor.__anext__()\n",
    "            rows = [row async for row in cursor]\n",
    "            return pd.DataFrame(rows, columns=row_names)\n",
    "\n",
    "\n",
    "# We must use task because jupyter uses tornado and event loop is in use.\n",
    "await loop.create_task(cache_api())"
   ]
  },
  {
   "cell_type": "markdown",
   "id": "9394d111",
   "metadata": {},
   "source": [
    "### Scan query example"
   ]
  },
  {
   "cell_type": "code",
   "execution_count": 58,
   "id": "280c189a",
   "metadata": {},
   "outputs": [
    {
     "data": {
      "text/html": [
       "<div>\n",
       "<style scoped>\n",
       "    .dataframe tbody tr th:only-of-type {\n",
       "        vertical-align: middle;\n",
       "    }\n",
       "\n",
       "    .dataframe tbody tr th {\n",
       "        vertical-align: top;\n",
       "    }\n",
       "\n",
       "    .dataframe thead th {\n",
       "        text-align: right;\n",
       "    }\n",
       "</style>\n",
       "<table border=\"1\" class=\"dataframe\">\n",
       "  <thead>\n",
       "    <tr style=\"text-align: right;\">\n",
       "      <th></th>\n",
       "      <th>SID</th>\n",
       "      <th>NAME</th>\n",
       "      <th>LOGIN</th>\n",
       "      <th>AGE</th>\n",
       "      <th>GPA</th>\n",
       "    </tr>\n",
       "  </thead>\n",
       "  <tbody>\n",
       "    <tr>\n",
       "      <th>0</th>\n",
       "      <td>0</td>\n",
       "      <td>John Doe</td>\n",
       "      <td>jdoe</td>\n",
       "      <td>18</td>\n",
       "      <td>2.5</td>\n",
       "    </tr>\n",
       "    <tr>\n",
       "      <th>1</th>\n",
       "      <td>1</td>\n",
       "      <td>Jane Doe</td>\n",
       "      <td>janed</td>\n",
       "      <td>25</td>\n",
       "      <td>3.5</td>\n",
       "    </tr>\n",
       "    <tr>\n",
       "      <th>2</th>\n",
       "      <td>2</td>\n",
       "      <td>Eva Lu Ator</td>\n",
       "      <td>evaluator</td>\n",
       "      <td>45</td>\n",
       "      <td>4.9</td>\n",
       "    </tr>\n",
       "  </tbody>\n",
       "</table>\n",
       "</div>"
      ],
      "text/plain": [
       "   SID         NAME      LOGIN  AGE  GPA\n",
       "0    0     John Doe       jdoe   18  2.5\n",
       "1    1     Jane Doe      janed   25  3.5\n",
       "2    2  Eva Lu Ator  evaluator   45  4.9"
      ]
     },
     "execution_count": 58,
     "metadata": {},
     "output_type": "execute_result"
    }
   ],
   "source": [
    "async def scan_query():\n",
    "    async with client.connect([('127.0.0.1', 10800 + i) for i in range(3)]):\n",
    "        cache = await client.get_or_create_cache(CACHE_CONFIG)\n",
    "        await cache.put_all({i: Student(**st) for i, st in enumerate(students)})\n",
    "\n",
    "        \n",
    "        row_names = ['name', 'login', 'age', 'gpa', 'version']\n",
    "        rows = []\n",
    "        \n",
    "        async with cache.scan() as cursor:\n",
    "            async for k,v in cursor:\n",
    "                row = [k]\n",
    "                row += [getattr(v, name, None) for name in row_names]\n",
    "                rows.append(row)\n",
    "\n",
    "        return pd.DataFrame(rows, columns=['sid'] + row_names)\n",
    "\n",
    "\n",
    "# We must use task because jupyter uses tornado and event loop is in use.\n",
    "await loop.create_task(get_students())"
   ]
  },
  {
   "cell_type": "markdown",
   "id": "76d83ce4",
   "metadata": {},
   "source": [
    "### Sql query example"
   ]
  },
  {
   "cell_type": "code",
   "execution_count": 60,
   "id": "15b62730",
   "metadata": {},
   "outputs": [
    {
     "data": {
      "text/html": [
       "<div>\n",
       "<style scoped>\n",
       "    .dataframe tbody tr th:only-of-type {\n",
       "        vertical-align: middle;\n",
       "    }\n",
       "\n",
       "    .dataframe tbody tr th {\n",
       "        vertical-align: top;\n",
       "    }\n",
       "\n",
       "    .dataframe thead th {\n",
       "        text-align: right;\n",
       "    }\n",
       "</style>\n",
       "<table border=\"1\" class=\"dataframe\">\n",
       "  <thead>\n",
       "    <tr style=\"text-align: right;\">\n",
       "      <th></th>\n",
       "      <th>SID</th>\n",
       "      <th>NAME</th>\n",
       "      <th>LOGIN</th>\n",
       "      <th>AGE</th>\n",
       "      <th>GPA</th>\n",
       "    </tr>\n",
       "  </thead>\n",
       "  <tbody>\n",
       "    <tr>\n",
       "      <th>0</th>\n",
       "      <td>0</td>\n",
       "      <td>John Doe</td>\n",
       "      <td>jdoe</td>\n",
       "      <td>18</td>\n",
       "      <td>2.5</td>\n",
       "    </tr>\n",
       "    <tr>\n",
       "      <th>1</th>\n",
       "      <td>1</td>\n",
       "      <td>Jane Doe</td>\n",
       "      <td>janed</td>\n",
       "      <td>25</td>\n",
       "      <td>3.5</td>\n",
       "    </tr>\n",
       "    <tr>\n",
       "      <th>2</th>\n",
       "      <td>2</td>\n",
       "      <td>Eva Lu Ator</td>\n",
       "      <td>evaluator</td>\n",
       "      <td>45</td>\n",
       "      <td>4.9</td>\n",
       "    </tr>\n",
       "  </tbody>\n",
       "</table>\n",
       "</div>"
      ],
      "text/plain": [
       "   SID         NAME      LOGIN  AGE  GPA\n",
       "0    0     John Doe       jdoe   18  2.5\n",
       "1    1     Jane Doe      janed   25  3.5\n",
       "2    2  Eva Lu Ator  evaluator   45  4.9"
      ]
     },
     "execution_count": 60,
     "metadata": {},
     "output_type": "execute_result"
    }
   ],
   "source": [
    "async def sql_query():\n",
    "    async with client.connect([('127.0.0.1', 10800 + i) for i in range(3)]):\n",
    "        async with client.sql('select * from student', include_field_names=True) as cursor:\n",
    "            row_names = await cursor.__anext__()\n",
    "            rows = [row async for row in cursor]\n",
    "            return pd.DataFrame(rows, columns=row_names)\n",
    "\n",
    "\n",
    "# We must use task because jupyter uses tornado and event loop is in use.\n",
    "await loop.create_task(sql_query())"
   ]
  }
 ],
 "metadata": {
  "kernelspec": {
   "display_name": "Python 3",
   "language": "python",
   "name": "python3"
  },
  "language_info": {
   "codemirror_mode": {
    "name": "ipython",
    "version": 3
   },
   "file_extension": ".py",
   "mimetype": "text/x-python",
   "name": "python",
   "nbconvert_exporter": "python",
   "pygments_lexer": "ipython3",
   "version": "3.8.6"
  }
 },
 "nbformat": 4,
 "nbformat_minor": 5
}
