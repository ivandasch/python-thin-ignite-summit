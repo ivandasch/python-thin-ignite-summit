{
 "cells": [
  {
   "cell_type": "markdown",
   "id": "813d35bd",
   "metadata": {},
   "source": [
    "## Sync client examples\n",
    "\n",
    "More examples can be found [here](https://apache-ignite-binary-protocol-client.readthedocs.io/en/latest/readme.html#examples)"
   ]
  },
  {
   "cell_type": "code",
   "execution_count": 1,
   "id": "ecc0b224",
   "metadata": {},
   "outputs": [],
   "source": [
    "import pandas as pd\n",
    "\n",
    "from pyignite import GenericObjectMeta, Client\n",
    "from pyignite.datatypes import String, IntObject, DoubleObject\n",
    "from pyignite.datatypes.prop_codes import PROP_NAME, PROP_SQL_SCHEMA, PROP_QUERY_ENTITIES\n",
    "from pyignite.datatypes.cluster_state import ClusterState"
   ]
  },
  {
   "cell_type": "code",
   "execution_count": 2,
   "id": "6b62db83",
   "metadata": {},
   "outputs": [],
   "source": [
    "CACHE_CONFIG = {\n",
    "    PROP_NAME: 'sql_public_student',\n",
    "    PROP_SQL_SCHEMA: 'public',\n",
    "    PROP_QUERY_ENTITIES: [\n",
    "        {\n",
    "            'table_name': 'student',\n",
    "            'key_field_name': 'sid',\n",
    "            'key_type_name': 'java.lang.Long',\n",
    "            'field_name_aliases': [],\n",
    "            'query_fields': [\n",
    "                {\n",
    "                    'name': 'sid',\n",
    "                    'type_name': 'java.lang.Long',\n",
    "                    'is_key_field': True,\n",
    "                    'is_notnull_constraint_field': True,\n",
    "                },\n",
    "                {\n",
    "                    'name': 'name',\n",
    "                    'type_name': 'java.lang.String',\n",
    "                },\n",
    "                {\n",
    "                    'name': 'login',\n",
    "                    'type_name': 'java.lang.String',\n",
    "                },\n",
    "                {\n",
    "                    'name': 'age',\n",
    "                    'type_name': 'java.lang.Integer',\n",
    "                },\n",
    "                {\n",
    "                    'name': 'gpa',\n",
    "                    'type_name': 'java.math.Double',\n",
    "                },\n",
    "            ],\n",
    "            'query_indexes': [],\n",
    "            'value_type_name': 'sql_public_student_type',\n",
    "            'value_field_name': None,\n",
    "        },\n",
    "    ],\n",
    "}"
   ]
  },
  {
   "cell_type": "code",
   "execution_count": 3,
   "id": "085b728e",
   "metadata": {},
   "outputs": [],
   "source": [
    "class Student(\n",
    "    metaclass=GenericObjectMeta,\n",
    "    type_name='sql_public_student_type',\n",
    "    schema={\n",
    "        'name': String,\n",
    "        'login': String,\n",
    "        'age': IntObject,\n",
    "        'gpa': DoubleObject,\n",
    "    }\n",
    "):\n",
    "    pass"
   ]
  },
  {
   "cell_type": "code",
   "execution_count": 4,
   "id": "3b972910",
   "metadata": {},
   "outputs": [],
   "source": [
    "students = [\n",
    "    {'name': 'John Doe', 'login': 'john_doe', 'age': 18, 'gpa': 2.5},\n",
    "    {'name': 'Jane Doe', 'login': 'jane_doe', 'age': 25, 'gpa': 3.5},\n",
    "    {'name': 'Eva Lu Ator', 'login': 'eva_lisp', 'age': 45, 'gpa': 4.9}\n",
    "]"
   ]
  },
  {
   "cell_type": "code",
   "execution_count": 5,
   "id": "ba619f1d",
   "metadata": {},
   "outputs": [],
   "source": [
    "client = Client(partition_aware=True)"
   ]
  },
  {
   "cell_type": "markdown",
   "id": "e11c4747",
   "metadata": {},
   "source": [
    "### Cache operations example"
   ]
  },
  {
   "cell_type": "code",
   "execution_count": 17,
   "id": "a228c03c",
   "metadata": {},
   "outputs": [
    {
     "data": {
      "text/html": [
       "<div>\n",
       "<style scoped>\n",
       "    .dataframe tbody tr th:only-of-type {\n",
       "        vertical-align: middle;\n",
       "    }\n",
       "\n",
       "    .dataframe tbody tr th {\n",
       "        vertical-align: top;\n",
       "    }\n",
       "\n",
       "    .dataframe thead th {\n",
       "        text-align: right;\n",
       "    }\n",
       "</style>\n",
       "<table border=\"1\" class=\"dataframe\">\n",
       "  <thead>\n",
       "    <tr style=\"text-align: right;\">\n",
       "      <th></th>\n",
       "      <th>sid</th>\n",
       "      <th>name</th>\n",
       "      <th>login</th>\n",
       "      <th>age</th>\n",
       "      <th>gpa</th>\n",
       "      <th>version</th>\n",
       "    </tr>\n",
       "  </thead>\n",
       "  <tbody>\n",
       "    <tr>\n",
       "      <th>0</th>\n",
       "      <td>0</td>\n",
       "      <td>John Doe</td>\n",
       "      <td>john_doe</td>\n",
       "      <td>18</td>\n",
       "      <td>2.5</td>\n",
       "      <td>1</td>\n",
       "    </tr>\n",
       "    <tr>\n",
       "      <th>1</th>\n",
       "      <td>1</td>\n",
       "      <td>Jane Doe</td>\n",
       "      <td>jane_doe</td>\n",
       "      <td>25</td>\n",
       "      <td>3.5</td>\n",
       "      <td>1</td>\n",
       "    </tr>\n",
       "    <tr>\n",
       "      <th>2</th>\n",
       "      <td>2</td>\n",
       "      <td>Eva Lu Ator</td>\n",
       "      <td>eva_lisp</td>\n",
       "      <td>45</td>\n",
       "      <td>4.9</td>\n",
       "      <td>1</td>\n",
       "    </tr>\n",
       "  </tbody>\n",
       "</table>\n",
       "</div>"
      ],
      "text/plain": [
       "   sid         name     login  age  gpa  version\n",
       "0    0     John Doe  john_doe   18  2.5        1\n",
       "1    1     Jane Doe  jane_doe   25  3.5        1\n",
       "2    2  Eva Lu Ator  eva_lisp   45  4.9        1"
      ]
     },
     "execution_count": 17,
     "metadata": {},
     "output_type": "execute_result"
    }
   ],
   "source": [
    "with client.connect([('127.0.0.1', 10800 + i) for i in range(3)]):\n",
    "    cache = client.get_or_create_cache(CACHE_CONFIG)\n",
    "    \n",
    "    cache.put_all({i: Student(**st) for i, st in enumerate(students)})\n",
    "    cache\n",
    "    \n",
    "    all_data = cache.get_all([i for i in range(len(students))])\n",
    "    \n",
    "    row_names = ['name', 'login', 'age', 'gpa', 'version']\n",
    "    rows = []\n",
    "    \n",
    "    for k,v in all_data.items():\n",
    "        row = [k]\n",
    "        row += [getattr(v, name, None) for name in row_names]\n",
    "        rows.append(row)\n",
    "\n",
    "    df = pd.DataFrame(rows, columns=['sid'] + row_names)\n",
    "df"
   ]
  },
  {
   "cell_type": "code",
   "execution_count": null,
   "id": "320999ba",
   "metadata": {},
   "outputs": [],
   "source": []
  },
  {
   "cell_type": "markdown",
   "id": "990fdda7",
   "metadata": {},
   "source": [
    "### Scan query example"
   ]
  },
  {
   "cell_type": "code",
   "execution_count": 11,
   "id": "ea9a8b53",
   "metadata": {},
   "outputs": [
    {
     "data": {
      "text/html": [
       "<div>\n",
       "<style scoped>\n",
       "    .dataframe tbody tr th:only-of-type {\n",
       "        vertical-align: middle;\n",
       "    }\n",
       "\n",
       "    .dataframe tbody tr th {\n",
       "        vertical-align: top;\n",
       "    }\n",
       "\n",
       "    .dataframe thead th {\n",
       "        text-align: right;\n",
       "    }\n",
       "</style>\n",
       "<table border=\"1\" class=\"dataframe\">\n",
       "  <thead>\n",
       "    <tr style=\"text-align: right;\">\n",
       "      <th></th>\n",
       "      <th>sid</th>\n",
       "      <th>name</th>\n",
       "      <th>login</th>\n",
       "      <th>age</th>\n",
       "      <th>gpa</th>\n",
       "      <th>version</th>\n",
       "    </tr>\n",
       "  </thead>\n",
       "  <tbody>\n",
       "    <tr>\n",
       "      <th>0</th>\n",
       "      <td>0</td>\n",
       "      <td>John Doe</td>\n",
       "      <td>john_doe</td>\n",
       "      <td>18</td>\n",
       "      <td>2.5</td>\n",
       "      <td>1</td>\n",
       "    </tr>\n",
       "    <tr>\n",
       "      <th>1</th>\n",
       "      <td>1</td>\n",
       "      <td>Jane Doe</td>\n",
       "      <td>jane_doe</td>\n",
       "      <td>25</td>\n",
       "      <td>3.5</td>\n",
       "      <td>1</td>\n",
       "    </tr>\n",
       "    <tr>\n",
       "      <th>2</th>\n",
       "      <td>2</td>\n",
       "      <td>Eva Lu Ator</td>\n",
       "      <td>eva_lisp</td>\n",
       "      <td>45</td>\n",
       "      <td>4.9</td>\n",
       "      <td>1</td>\n",
       "    </tr>\n",
       "  </tbody>\n",
       "</table>\n",
       "</div>"
      ],
      "text/plain": [
       "   sid         name     login  age  gpa  version\n",
       "0    0     John Doe  john_doe   18  2.5        1\n",
       "1    1     Jane Doe  jane_doe   25  3.5        1\n",
       "2    2  Eva Lu Ator  eva_lisp   45  4.9        1"
      ]
     },
     "execution_count": 11,
     "metadata": {},
     "output_type": "execute_result"
    }
   ],
   "source": [
    "with client.connect([('127.0.0.1', 10800 + i) for i in range(3)]):\n",
    "    cache = client.get_or_create_cache(CACHE_CONFIG)\n",
    "    \n",
    "    row_names = ['name', 'login', 'age', 'gpa', 'version']\n",
    "    rows = []\n",
    "    \n",
    "    with cache.scan() as cursor:\n",
    "        for k,v in cursor:\n",
    "            row = [k]\n",
    "            row += [getattr(v, name, None) for name in row_names]\n",
    "            rows.append(row)\n",
    "\n",
    "    df = pd.DataFrame(rows, columns=['sid'] + row_names)\n",
    "df"
   ]
  },
  {
   "cell_type": "markdown",
   "id": "3b30b88e",
   "metadata": {},
   "source": [
    "### Sql query example"
   ]
  },
  {
   "cell_type": "code",
   "execution_count": 12,
   "id": "6ae0030d",
   "metadata": {},
   "outputs": [
    {
     "data": {
      "text/html": [
       "<div>\n",
       "<style scoped>\n",
       "    .dataframe tbody tr th:only-of-type {\n",
       "        vertical-align: middle;\n",
       "    }\n",
       "\n",
       "    .dataframe tbody tr th {\n",
       "        vertical-align: top;\n",
       "    }\n",
       "\n",
       "    .dataframe thead th {\n",
       "        text-align: right;\n",
       "    }\n",
       "</style>\n",
       "<table border=\"1\" class=\"dataframe\">\n",
       "  <thead>\n",
       "    <tr style=\"text-align: right;\">\n",
       "      <th></th>\n",
       "      <th>SID</th>\n",
       "      <th>NAME</th>\n",
       "      <th>LOGIN</th>\n",
       "      <th>AGE</th>\n",
       "      <th>GPA</th>\n",
       "    </tr>\n",
       "  </thead>\n",
       "  <tbody>\n",
       "    <tr>\n",
       "      <th>0</th>\n",
       "      <td>0</td>\n",
       "      <td>John Doe</td>\n",
       "      <td>john_doe</td>\n",
       "      <td>18</td>\n",
       "      <td>2.5</td>\n",
       "    </tr>\n",
       "    <tr>\n",
       "      <th>1</th>\n",
       "      <td>1</td>\n",
       "      <td>Jane Doe</td>\n",
       "      <td>jane_doe</td>\n",
       "      <td>25</td>\n",
       "      <td>3.5</td>\n",
       "    </tr>\n",
       "    <tr>\n",
       "      <th>2</th>\n",
       "      <td>2</td>\n",
       "      <td>Eva Lu Ator</td>\n",
       "      <td>eva_lisp</td>\n",
       "      <td>45</td>\n",
       "      <td>4.9</td>\n",
       "    </tr>\n",
       "  </tbody>\n",
       "</table>\n",
       "</div>"
      ],
      "text/plain": [
       "   SID         NAME     LOGIN  AGE  GPA\n",
       "0    0     John Doe  john_doe   18  2.5\n",
       "1    1     Jane Doe  jane_doe   25  3.5\n",
       "2    2  Eva Lu Ator  eva_lisp   45  4.9"
      ]
     },
     "execution_count": 12,
     "metadata": {},
     "output_type": "execute_result"
    }
   ],
   "source": [
    "with client.connect([('127.0.0.1', 10800 + i) for i in range(3)]):\n",
    "    cache = client.get_or_create_cache(CACHE_CONFIG)\n",
    "    cache.put_all({i: Student(**st) for i, st in enumerate(students)})\n",
    "    \n",
    "            \n",
    "    with client.sql('select * from student', include_field_names=True) as cursor:\n",
    "        row_names = next(cursor)\n",
    "        rows = list(cursor)\n",
    "        df = pd.DataFrame(rows, columns=row_names)\n",
    "\n",
    "df"
   ]
  },
  {
   "cell_type": "markdown",
   "id": "09c9fb84",
   "metadata": {},
   "source": [
    "### Cluster API (set_state) example"
   ]
  },
  {
   "cell_type": "code",
   "execution_count": 15,
   "id": "afcb12a5",
   "metadata": {},
   "outputs": [
    {
     "name": "stdout",
     "output_type": "stream",
     "text": [
      "Student(name='Jane Doe', login='jane_doe', age=30, gpa=3.5, version=1)\n"
     ]
    }
   ],
   "source": [
    "with client.connect([('127.0.0.1', 10800 + i) for i in range(3)]):\n",
    "    cluster = client.get_cluster()\n",
    "    cluster.set_state(ClusterState.ACTIVE)\n",
    "    # cluster.set_state(ClusterState.INACTIVE)\n",
    "    # cluster.set_state(ClusterState.ACTIVE_READ_ONLY)\n",
    "    \n",
    "    cache = client.get_or_create_cache(CACHE_CONFIG)\n",
    "    student = cache.get(1)\n",
    "    student.age = 30\n",
    "    cache.put(1, student)\n",
    "    print(cache.get(1))"
   ]
  }
 ],
 "metadata": {
  "kernelspec": {
   "display_name": "Python 3",
   "language": "python",
   "name": "python3"
  },
  "language_info": {
   "codemirror_mode": {
    "name": "ipython",
    "version": 3
   },
   "file_extension": ".py",
   "mimetype": "text/x-python",
   "name": "python",
   "nbconvert_exporter": "python",
   "pygments_lexer": "ipython3",
   "version": "3.8.6"
  }
 },
 "nbformat": 4,
 "nbformat_minor": 5
}
