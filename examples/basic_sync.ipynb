{
 "cells": [
  {
   "cell_type": "code",
   "execution_count": 1,
   "id": "ecc0b224",
   "metadata": {},
   "outputs": [],
   "source": [
    "from pyignite import Client\n",
    "from pyignite import GenericObjectMeta, Client\n",
    "from pyignite.datatypes import String, IntObject, DoubleObject\n",
    "from pyignite.datatypes.prop_codes import PROP_NAME, PROP_SQL_SCHEMA, PROP_QUERY_ENTITIES\n",
    "import pandas as pd"
   ]
  },
  {
   "cell_type": "code",
   "execution_count": 2,
   "id": "6b62db83",
   "metadata": {},
   "outputs": [],
   "source": [
    "CACHE_CONFIG = {\n",
    "    PROP_NAME: 'SQL_PUBLIC_STUDENT',\n",
    "    PROP_SQL_SCHEMA: 'PUBLIC',\n",
    "    PROP_QUERY_ENTITIES: [\n",
    "        {\n",
    "            'table_name': 'Student'.upper(),\n",
    "            'key_field_name': 'sid',\n",
    "            'key_type_name': 'java.lang.Long',\n",
    "            'field_name_aliases': [],\n",
    "            'query_fields': [\n",
    "                {\n",
    "                    'name': 'sid',\n",
    "                    'type_name': 'java.lang.Long',\n",
    "                    'is_key_field': True,\n",
    "                    'is_notnull_constraint_field': True,\n",
    "                },\n",
    "                {\n",
    "                    'name': 'name',\n",
    "                    'type_name': 'java.lang.String',\n",
    "                },\n",
    "                {\n",
    "                    'name': 'login',\n",
    "                    'type_name': 'java.lang.String',\n",
    "                },\n",
    "                {\n",
    "                    'name': 'age',\n",
    "                    'type_name': 'java.lang.Integer',\n",
    "                },\n",
    "                {\n",
    "                    'name': 'gpa',\n",
    "                    'type_name': 'java.math.Double',\n",
    "                },\n",
    "            ],\n",
    "            'query_indexes': [],\n",
    "            'value_type_name': 'SQL_PUBLIC_STUDENT_TYPE',\n",
    "            'value_field_name': None,\n",
    "        },\n",
    "    ],\n",
    "}"
   ]
  },
  {
   "cell_type": "code",
   "execution_count": 3,
   "id": "085b728e",
   "metadata": {},
   "outputs": [],
   "source": [
    "class Student(\n",
    "    metaclass=GenericObjectMeta,\n",
    "    type_name='SQL_PUBLIC_STUDENT_TYPE',\n",
    "    schema={\n",
    "        'name': String,\n",
    "        'login': String,\n",
    "        'age': IntObject,\n",
    "        'gpa': DoubleObject,\n",
    "    }\n",
    "):\n",
    "    pass"
   ]
  },
  {
   "cell_type": "code",
   "execution_count": 4,
   "id": "3b972910",
   "metadata": {},
   "outputs": [],
   "source": [
    "students = [\n",
    "    {'name': 'John Doe', 'login': 'john_doe', 'age': 18, 'gpa': 2.5},\n",
    "    {'name': 'Jane Doe', 'login': 'jane_doe', 'age': 25, 'gpa': 3.5},\n",
    "    {'name': 'Eva Lu Ator', 'login': 'eva_lisp', 'age': 45, 'gpa': 4.9}\n",
    "]"
   ]
  },
  {
   "cell_type": "code",
   "execution_count": 5,
   "id": "ba619f1d",
   "metadata": {},
   "outputs": [],
   "source": [
    "client = Client(partition_aware=True)"
   ]
  },
  {
   "cell_type": "code",
   "execution_count": 25,
   "id": "a228c03c",
   "metadata": {},
   "outputs": [
    {
     "data": {
      "text/html": [
       "<div>\n",
       "<style scoped>\n",
       "    .dataframe tbody tr th:only-of-type {\n",
       "        vertical-align: middle;\n",
       "    }\n",
       "\n",
       "    .dataframe tbody tr th {\n",
       "        vertical-align: top;\n",
       "    }\n",
       "\n",
       "    .dataframe thead th {\n",
       "        text-align: right;\n",
       "    }\n",
       "</style>\n",
       "<table border=\"1\" class=\"dataframe\">\n",
       "  <thead>\n",
       "    <tr style=\"text-align: right;\">\n",
       "      <th></th>\n",
       "      <th>SID</th>\n",
       "      <th>NAME</th>\n",
       "      <th>LOGIN</th>\n",
       "      <th>AGE</th>\n",
       "      <th>GPA</th>\n",
       "    </tr>\n",
       "  </thead>\n",
       "  <tbody>\n",
       "    <tr>\n",
       "      <th>0</th>\n",
       "      <td>0</td>\n",
       "      <td>John Doe</td>\n",
       "      <td>john_doe</td>\n",
       "      <td>18</td>\n",
       "      <td>2.5</td>\n",
       "    </tr>\n",
       "    <tr>\n",
       "      <th>1</th>\n",
       "      <td>1</td>\n",
       "      <td>Jane Doe</td>\n",
       "      <td>jane_doe</td>\n",
       "      <td>25</td>\n",
       "      <td>3.5</td>\n",
       "    </tr>\n",
       "    <tr>\n",
       "      <th>2</th>\n",
       "      <td>2</td>\n",
       "      <td>Eva Lu Ator</td>\n",
       "      <td>eva_lisp</td>\n",
       "      <td>45</td>\n",
       "      <td>4.9</td>\n",
       "    </tr>\n",
       "  </tbody>\n",
       "</table>\n",
       "</div>"
      ],
      "text/plain": [
       "   SID         NAME     LOGIN  AGE  GPA\n",
       "0    0     John Doe  john_doe   18  2.5\n",
       "1    1     Jane Doe  jane_doe   25  3.5\n",
       "2    2  Eva Lu Ator  eva_lisp   45  4.9"
      ]
     },
     "execution_count": 25,
     "metadata": {},
     "output_type": "execute_result"
    }
   ],
   "source": [
    "with client.connect([('127.0.0.1', 10800 + i) for i in range(3)]):\n",
    "    cache = client.get_or_create_cache(CACHE_CONFIG)\n",
    "    cache.put_all({i: Student(**st) for i, st in enumerate(students)})\n",
    "    \n",
    "            \n",
    "    with client.sql('select * from STUDENT', include_field_names=True) as cursor:\n",
    "        row_names = next(cursor)\n",
    "        rows = list(cursor)\n",
    "        df = pd.DataFrame(rows, columns=row_names)\n",
    "\n",
    "df"
   ]
  }
 ],
 "metadata": {
  "kernelspec": {
   "display_name": "Python 3",
   "language": "python",
   "name": "python3"
  },
  "language_info": {
   "codemirror_mode": {
    "name": "ipython",
    "version": 3
   },
   "file_extension": ".py",
   "mimetype": "text/x-python",
   "name": "python",
   "nbconvert_exporter": "python",
   "pygments_lexer": "ipython3",
   "version": "3.8.6"
  }
 },
 "nbformat": 4,
 "nbformat_minor": 5
}
